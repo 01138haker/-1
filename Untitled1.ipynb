{
  "nbformat": 4,
  "nbformat_minor": 0,
  "metadata": {
    "colab": {
      "provenance": []
    },
    "kernelspec": {
      "name": "python3",
      "display_name": "Python 3"
    },
    "language_info": {
      "name": "python"
    }
  },
  "cells": [
    {
      "cell_type": "code",
      "execution_count": 6,
      "metadata": {
        "colab": {
          "base_uri": "https://localhost:8080/"
        },
        "id": "XxozEq5hXuFe",
        "outputId": "6db64ca7-83c3-40ca-f142-d418f1ee58e3"
      },
      "outputs": [
        {
          "output_type": "stream",
          "name": "stdout",
          "text": [
            "Введите ваши фамилию имя отчество Смелов Александр Дмитриевич\n",
            "Сколько вам лет 20\n",
            "Где вы живите Морозова\n",
            " Ваше имя  Смелов Александр Дмитриевич\n",
            " Ваш возраст  20\n",
            " Вы живете  Морозова\n"
          ]
        }
      ],
      "source": [
        "a = input(\"Введите ваши фамилию имя отчество \")\n",
        "b = input(\"Сколько вам лет \")\n",
        "c = input(\"Где вы живите \")\n",
        "print(\" Ваше имя \", a)\n",
        "print(\" Ваш возраст \", b)\n",
        "print(\" Вы живете \", c)"
      ]
    }
  ]
}